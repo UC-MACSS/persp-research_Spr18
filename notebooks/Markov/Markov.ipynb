{
 "cells": [
  {
   "cell_type": "markdown",
   "metadata": {},
   "source": [
    "# Markov Chains and Hidden Markov Models (MACS 30200)\n",
    "### by [Richard W. Evans](https://sites.google.com/site/rickecon/), May 2018\n",
    "The code in this Jupyter notebook was written using Python 3.6.\n",
    "\n",
    "## 1. QuantEcon Markov notebook\n",
    "See QuantEcon notebook on [Finite Markov Chains](https://lectures.quantecon.org/py/finite_markov.html)."
   ]
  },
  {
   "cell_type": "markdown",
   "metadata": {},
   "source": [
    "## 2. Discrete diagrams to Markov processes and interpretations"
   ]
  },
  {
   "cell_type": "markdown",
   "metadata": {},
   "source": [
    "### 2.1. 2-state systems\n",
    "Assume that you can have two types of day in period $t$: $x_{1,t}$= good day, $x_{2,t}$= bad day.\n",
    "\n",
    "$$ X_t = [x_{1,t}, x_{2,t}] $$\n",
    "\n",
    "What are some interpretations of this $X_t$ vector? What values can its entries take on? What might those values mean?\n",
    "\n",
    "Let's further assume that the probability of tomorrow being a good day given that today is a good day $Pr(x_{1,t+1}|x_{1,t}) = \\pi_{1,1}$. Because there is only one other outcome that tomorrow can have, then we know that the probability of tomorrow being a bad day given that today is a good day is $Pr(x_{2,t+1}|x_{1,t}) = 1 - \\pi_{1,1}$.\n",
    "\n",
    "We could also assume some different probabilities for the quality of tomorrow's day if today is a bad day. If we assume that the probability of tomorrow being a bad day given that today is a bad day is $Pr(x_{2,t+1}|x_{2,t}) = \\pi_{2,2}$, then there is only one other outcome that tomorrow can have and we know that the probability of tomorrow being a good day given that today is a bad day is $Pr(x_{2,t+1}|x_{2,t}) = 1 - \\pi_{2,2}$.\n",
    "\n",
    "How might we simulate the time series of a person's quality of days $X_t$? How might we interpret the results? How important are the assumed probabilities $\\pi_{j,k}$?\n",
    "\n",
    "Let's construct a transition matrix $P$ that lists all the assumed probabilities from the previous paragraph in a particular way and has typical element $\\pi_{j,k}$.\n",
    "\n",
    "$$ P = \\begin{bmatrix} \\pi_{1,1} & 1 - \\pi_{1,1} \\\\\n",
    "                     1 - \\pi_{2,2} & \\pi_{2,2} \\end{bmatrix} $$\n",
    "\n",
    "What does the following equation or law of motion mean?\n",
    "\n",
    "$$ X_{t+1} = P^T X_t \\quad\\Rightarrow\\quad \\begin{bmatrix}x_{1,t+1} \\\\ x_{2,t+1}\\end{bmatrix} = \\begin{bmatrix} \\pi_{1,1} & 1 - \\pi_{2,2} \\\\\n",
    "                1 - \\pi_{1,1} & \\pi_{2,2} \\end{bmatrix}\\begin{bmatrix} x_{1,t} \\\\ x_{2,t}\\end{bmatrix} $$"
   ]
  },
  {
   "cell_type": "code",
   "execution_count": null,
   "metadata": {},
   "outputs": [],
   "source": [
    "import numpy as np\n",
    "\n",
    "pi_11 = 0.8\n",
    "pi_22 = 0.5\n",
    "P = np.array([[pi_11, 1 - pi_11], [1 - pi_22, pi_22]])\n",
    "print(P)\n",
    "print()\n",
    "print(P.T)"
   ]
  },
  {
   "cell_type": "code",
   "execution_count": null,
   "metadata": {},
   "outputs": [],
   "source": [
    "# What if today is a good day?\n",
    "X_t = np.array([[1.0], [0.0]])  # Make a 2 x 1 vector\n",
    "X_tp1 = np.dot(P.T, X_t)\n",
    "print(X_tp1)"
   ]
  },
  {
   "cell_type": "markdown",
   "metadata": {},
   "source": [
    "How do we interpret this vector for $X_{t+1}$ from a current period vector $X_t$ in which today was a good day? These represent the number of people\n",
    "\n",
    "How would we interpret $X_{t+2}$ goint from this $X_{t+1}$?"
   ]
  },
  {
   "cell_type": "code",
   "execution_count": null,
   "metadata": {},
   "outputs": [],
   "source": [
    "X_tp2 = np.dot(P.T, X_tp1)\n",
    "print(X_tp2)"
   ]
  },
  {
   "cell_type": "markdown",
   "metadata": {},
   "source": [
    "How does this look if I do it a bunch of times? What do you predict for $x_{1,t+u}$ and for $x_{2,t+u}$?"
   ]
  },
  {
   "cell_type": "code",
   "execution_count": null,
   "metadata": {},
   "outputs": [],
   "source": [
    "Sims = 25\n",
    "X_0_good = np.array([[1.0], [0.0]])\n",
    "Xmat = np.zeros((Sims, 2))\n",
    "Xmat[0, :] = X_0_good.flatten()\n",
    "\n",
    "X_t = X_0_good\n",
    "for sim in range(1, Sims):\n",
    "    X_tp1 = np.dot(P.T, X_t)\n",
    "    Xmat[sim, :] = X_tp1.flatten()\n",
    "    X_t = X_tp1\n",
    "\n",
    "print(Xmat)"
   ]
  },
  {
   "cell_type": "markdown",
   "metadata": {},
   "source": [
    "Is there a way to know what any row of that `Xmat` matrix is with one line of code using only the initial distribution `X_0` and the transition matrix `P` rather than the whole `for` loop?"
   ]
  },
  {
   "cell_type": "code",
   "execution_count": null,
   "metadata": {},
   "outputs": [],
   "source": [
    "x_row_u = ?"
   ]
  },
  {
   "cell_type": "markdown",
   "metadata": {},
   "source": [
    "Let's plot the two time series of $x_{1,t}$ and $x_{2,t}$."
   ]
  },
  {
   "cell_type": "code",
   "execution_count": null,
   "metadata": {},
   "outputs": [],
   "source": [
    "# Import the plotting libraries\n",
    "import matplotlib.pyplot as plt\n",
    "from matplotlib.ticker import MultipleLocator\n",
    "%matplotlib notebook"
   ]
  },
  {
   "cell_type": "code",
   "execution_count": null,
   "metadata": {},
   "outputs": [],
   "source": [
    "# Plot the two time series of $x_{1,t}$ and $x_{2,t}$\n",
    "per_vec = np.arange(1, Sims + 1)\n",
    "plt.plot(per_vec, Xmat[:, 0], 'k-', label='Good day')\n",
    "plt.plot(per_vec, Xmat[:, 1], 'r--', label='Bad day')\n",
    "plt.grid(b=True, which='major', color='0.65', linestyle=':')\n",
    "plt.title('Time series of good day and bad day', fontsize=20)\n",
    "plt.xlabel(r'Period $t$')\n",
    "plt.ylabel(r'Percent probability')\n",
    "plt.legend()"
   ]
  },
  {
   "cell_type": "markdown",
   "metadata": {},
   "source": [
    "What is the diagram for the Markov process of this system? Draw it?"
   ]
  },
  {
   "cell_type": "markdown",
   "metadata": {},
   "source": [
    "How do we interpret the process if the initial value is more like a population distribution? Can we still use the Markov transition matrix `P` as a valid transition matrix?"
   ]
  },
  {
   "cell_type": "code",
   "execution_count": null,
   "metadata": {},
   "outputs": [],
   "source": [
    "X_0 = np.array([[100.0], [20.0]])"
   ]
  },
  {
   "attachments": {
    "ThreeStateMarkovProcess.png": {
     "image/png": "[encoded data removed]"
    }
   },
   "cell_type": "markdown",
   "metadata": {},
   "source": [
    "### 2.2. 3-state Markov systems\n",
    "Consider a 3-state system $X_t = [x_{1,t}, x_{2,t}, x_{3,t}]$ in which $x_{1,t}=healthy$, $x_{2,t}=sick$, and $x_{3,t}=dead$. What is the Markov transition matrix $P$ that corresponds to this diagram of a 3-state system?\n",
    "\n",
    "![ThreeStateMarkovProcess.png](attachment:ThreeStateMarkovProcess.png)\n",
    "\n",
    "$$ P = \\begin{bmatrix} \\pi_{1,1} & \\pi_{1,2} & \\pi_{1,3} \\\\\n",
    "                       \\pi_{2,1} & \\pi_{2,2} & \\pi_{2,3} \\\\\n",
    "                       \\pi_{3,1} & \\pi_{3,2} & \\pi_{3,3} \\end{bmatrix} $$"
   ]
  },
  {
   "cell_type": "code",
   "execution_count": null,
   "metadata": {},
   "outputs": [],
   "source": [
    "pi_11 = ?\n",
    "pi_12 = ?\n",
    "pi_13 = ?\n",
    "\n",
    "pi_21 = ?\n",
    "pi_22 = ?\n",
    "pi_23 = ?\n",
    "\n",
    "pi_31 = ?\n",
    "pi_32 = ?\n",
    "pi_33 = ?\n",
    "\n",
    "P2 = np.array([[pi_11, pi_12, pi_13],\n",
    "               [pi_21, pi_22, pi_23],\n",
    "               [pi_31, pi_32, pi_33]])\n",
    "print(P2)"
   ]
  },
  {
   "cell_type": "markdown",
   "metadata": {},
   "source": [
    "If you start at any $X_t$ and simulate that system for a long time, what will be the long-run probability of everyone?"
   ]
  },
  {
   "cell_type": "code",
   "execution_count": null,
   "metadata": {},
   "outputs": [],
   "source": [
    "x_10 = ?\n",
    "x_20 = ?\n",
    "x_30 = ?\n",
    "X_0 = np.array([[x_10], [x_20], [x_30]])\n",
    "\n",
    "Sims2 = 30\n",
    "Xmat2 = np.zeros((Sims2, 3))\n",
    "X_t = X_0\n",
    "Xmat2[0, :] = X_t.flatten()\n",
    "\n",
    "for sim in range(1, Sims2):\n",
    "    X_tp1 = np.dot(P2.T, X_t)\n",
    "    Xmat[sim, :] = X_tp1.flatten()\n",
    "    X_t = X_tp1\n",
    "\n",
    "print(Xmat)"
   ]
  },
  {
   "cell_type": "markdown",
   "metadata": {},
   "source": [
    "## 3. Definitions\n",
    "We first define a **stochastic matrix** to represent a certain type of conditional distribution. This type of stochastic matrix is a Markov transition matrix. A stochastic matrix is a square matrix $P$ whose entries $\\pi_{j,k}\\geq 0$ and whose rows sum to one $\\sum_{k=1}^K \\pi_{j,k} = 1$ and where $J=K$ (square matrix).\n",
    "\n",
    "$$ P = \\begin{bmatrix} \\pi_{1,1} & \\pi_{1,2} & ...    & \\pi_{1,K} \\\\\n",
    "                       \\pi_{2,1} & \\pi_{2,2} & ...    & \\pi_{2,K} \\\\\n",
    "                       \\vdots    & \\vdots    & \\ddots & \\vdots    \\\\\n",
    "                       \\pi_{J,1} & \\pi_{J,2} & ...    & \\pi_{J,K} \\end{bmatrix} $$\n",
    "                       \n",
    "Let a random variable $x_t$ have a discrete, finite set of values it can take on.\n",
    "\n",
    "$$ \\mathcal{X} = [x_1, x_2, ... x_N] $$\n",
    "\n",
    "$\\mathcal{X}$ is the **state space**, and the invidual values $x_n$ are called **state values**. Let $X_t$ be an unconditional distribution over state values $x_n$.\n",
    "\n",
    "$$ X_t = \\begin{bmatrix} Pr(x_1) \\\\ Pr(x_2) \\\\ \\vdots \\\\ Pr(x_N) \\end{bmatrix} $$\n",
    "\n",
    "Note that this unconditional distribution at time $t$ could also be written as a population instead of probabilities by multiplying $X_t$ by a scalar.\n",
    "\n",
    "A **Markov process** is a stochastic process that satisfies the **Markov property**. The Markov property can be summarized as the characteristic that the future distribution of a system is completely determined by the current distribution of a system $X_t$ and the stationary Markov transition matrix $P$.\n",
    "\n",
    "$$ Pr(x_{k,t+1}) = Pr(x_{k,t+1}|x_{j,t})Pr(x_{j,t}) \\quad\\iff\\quad X_{t+1} = P^T X_t $$\n",
    "\n",
    "In a Markov process, the Markov transition matrix $P$ represents the conditional probability of $x_{k,t+1}$ tomorrow given $x_{j,t}$ today. In a Markov process, this conditional probability or transition matrix $P$ is constant across time (i.e., stationary, time invariant). This implies that the distribution of the random variable $X_{t+u}$ $u\\geq 1$ periods in the future is simply a function of the current distribution $X_t$ and the Markov transition matrix.\n",
    "\n",
    "$$ Pr(x_{k,t+u}) = \\Bigl[\\Pi_{v=t}^{t+u-1} Pr(x_{k,v+1}|x_{j,v})\\Bigr]Pr(x_{j,t}) \\quad\\Rightarrow\\quad X_{t+u} = \\left(P^T\\right)^u \\: X_t $$\n",
    "\n",
    "We can calculate the distribution of a random variable at any point in time in the future by simply multiplying the current distribution by the requisite power of the one-period Markov transition matrix. This is exactly what we did in the cell blocks above in Section 2.\n",
    "\n",
    "Also note here that the distribution $X_{t+u}$ need not be a probability distribution. Or rather $X_t$ can be transformed into a probability distribution by dividing $X_t$ by the requisite scalar."
   ]
  },
  {
   "attachments": {
    "FourStateMarkovProcess.png": {
     "image/png": "[encoded data removed]"
    }
   },
   "cell_type": "markdown",
   "metadata": {},
   "source": [
    "## 4. Ergodicity\n",
    "Despite its simplicity, a Markov process characterized by Markov transition matrix $P$ can generate some pretty rich dynamics. As we saw in the 3-state example from Section 2.2, some states can be absorbing and the long-run distribution can be degenerate. It is also true that Markov processes can have multiple long-run distributions or the distribution might cycle between after some time. Another process from Murphy (2012, Fig. 17b) has multiple potential long-run distributions.\n",
    "\n",
    "![FourStateMarkovProcess.png](attachment:FourStateMarkovProcess.png)\n",
    "\n",
    "If one starts the system at $x_4$, then the system stays at $x_4$ forever. If one starts the system at either $x_1$ or $x_2$, the long-run distribution will be based on the probabilities between the two states. If one starts the system at $x_3$, the long run distribution of the system will be a coin flip betwee the degenerate distribution at $x_4$ and the distribution based on the probabilities between $x_1$ and $x_2$.\n",
    "\n",
    "An important property for a Markov transition matrix $P$ that helps guarantee the existence of a unique long-run distribution is that each state be reachable after some number of periods from any other state. This means no absorbing states. A Markov transition matrix with this property is called **irreducible**.\n",
    "\n",
    "A Markov transition matrix is said to be **ergodic** if it has the properties of being **aperiodic** and **non-null recurrent**. [See Murphy (2012, pp. 600-601).]\n",
    "\n",
    "Theorem: Every irreducible (singly connected), ergodic Markov chain has a limiting distribution $\\textbf{V}$, its unique **stationary distribution**.\n",
    "\n",
    "$$ \\textbf{V} = P^T\\textbf{V} $$\n",
    "\n",
    "The stationary distribution $\\textbf{V}$ is sometimes called the **ergodic distribution**. It means that if $X_t = \\textbf{V}$, then $X_{t+1} = \\textbf{V}$.\n",
    "\n",
    "The theorem gives you conditions in which the stationary distribution will exist and will be unique. The stationary distribution tells you what the distribution will look like in the long run. The Markov transition matrix $P$ lets you calculate what the distribution will be in any point in time $t+u$ given the current distribution $X_t$.\n",
    "\n",
    "There are two ways to calculate the stationary distribution. When the theorem holds true, both methods give the same answer. When the theorem does not hold true, both methods might not give the same answer."
   ]
  },
  {
   "cell_type": "markdown",
   "metadata": {},
   "source": [
    "### 4.1. Eigenvalue-eigenvector decomposition\n",
    "The stationary equation $\\textbf{V} = P^T\\textbf{V}$ can be rewritten in the classic eigenvalue-eigenvector decomposition form for the matrix $P^T$.\n",
    "\n",
    "$$ \\left(P^T - \\lambda\\textbf{I}\\right)\\textbf{V} = \\textbf{0} \\quad\\text{where}\\quad \\lambda=1$$\n",
    "\n",
    "In this equation $\\lambda$ is a vector of eigenvalues and $\\textbf{V}$ is a matrix of eigenvectors. The $i$th column of the matrix of eigenvectors is the eigenvector associated with the $i$th eigenvalue $\\lambda_i$. The stationary distribution of the system is therefore the eigenvector $\\textbf{V}$ associated with the eigenvalue equal to $\\lambda_i=1$. Because the eigenvector is only true up to a constant, you will likely need to normalize it to make its entries sum to 1."
   ]
  },
  {
   "cell_type": "code",
   "execution_count": null,
   "metadata": {},
   "outputs": [],
   "source": [
    "pi_11 = 0.8\n",
    "pi_22 = 0.5\n",
    "P = np.array([[pi_11, 1 - pi_11], [1 - pi_22, pi_22]])\n",
    "print(P)\n",
    "print()\n",
    "print(P.T)"
   ]
  },
  {
   "cell_type": "code",
   "execution_count": null,
   "metadata": {},
   "outputs": [],
   "source": [
    "import numpy.linalg as LA\n",
    "\n",
    "eigvals, eigvecmat = LA.eig(P.T)\n",
    "one_ind = np.argwhere(eigvals == 1).flatten()\n",
    "eigvec = eigvecmat[:, one_ind] / eigvecmat[:, one_ind].sum()\n",
    "stat_dist = eigvec\n",
    "print(stat_dist)"
   ]
  },
  {
   "cell_type": "markdown",
   "metadata": {},
   "source": [
    "### 4.2. Power tranformation of P matrix\n",
    "Another way to find the stationary distribution of a Markov process is to iterate on the current distribution until it is no longer changing to an arbitrary degree of precision. This is equivalent to multiplying the initial distribution by the transition matrix raised to an arbitrarily high power (analogous to going an arbitrarily high number of periods into the future)."
   ]
  },
  {
   "cell_type": "code",
   "execution_count": null,
   "metadata": {},
   "outputs": [],
   "source": [
    "X_0 = np.array([[1.0], [0.0]])\n",
    "X_stat = np.dot(LA.matrix_power(P.T, 100), X_0)\n",
    "print(X_stat)"
   ]
  },
  {
   "cell_type": "markdown",
   "metadata": {},
   "source": [
    "## 5. Simulation\n",
    "How would you simulate a Markov process? And how is that different from simulating a continuous stochastic process?"
   ]
  },
  {
   "cell_type": "markdown",
   "metadata": {},
   "source": [
    "## 6. Examples of uses\n",
    "* Page rank\n",
    "* Text prediction\n",
    "* Demographics\n",
    "* MCMC\n",
    "* Approximating AR(1)\n",
    "* Estimating hidden processes (health care)"
   ]
  },
  {
   "cell_type": "markdown",
   "metadata": {},
   "source": [
    "## 7. Estimation"
   ]
  },
  {
   "cell_type": "markdown",
   "metadata": {},
   "source": [
    "## 8. References\n",
    "* Murphy, Kevin P., *Machine Learning: A Probabilistic Perspective*, MIT Press (2012).\n",
    "* "
   ]
  }
 ],
 "metadata": {
  "anaconda-cloud": {},
  "kernelspec": {
   "display_name": "Python 3",
   "language": "python",
   "name": "python3"
  },
  "language_info": {
   "codemirror_mode": {
    "name": "ipython",
    "version": 3
   },
   "file_extension": ".py",
   "mimetype": "text/x-python",
   "name": "python",
   "nbconvert_exporter": "python",
   "pygments_lexer": "ipython3",
   "version": "3.6.4"
  }
 },
 "nbformat": 4,
 "nbformat_minor": 1
}
